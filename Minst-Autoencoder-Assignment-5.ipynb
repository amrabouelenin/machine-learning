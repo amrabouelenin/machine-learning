{
 "cells": [
  {
   "cell_type": "code",
   "execution_count": 10,
   "metadata": {},
   "outputs": [],
   "source": [
    "import numpy as np\n",
    "import pandas as pd\n",
    "from mnist.loader import MNIST"
   ]
  },
  {
   "cell_type": "code",
   "execution_count": 16,
   "metadata": {},
   "outputs": [],
   "source": [
    "# Load whole mnist images from samples folder\n",
    "mndata = MNIST('samples')"
   ]
  },
  {
   "cell_type": "code",
   "execution_count": 17,
   "metadata": {},
   "outputs": [
    {
     "output_type": "execute_result",
     "data": {
      "text/plain": [
       "'train-images-idx3-ubyte'"
      ]
     },
     "metadata": {},
     "execution_count": 17
    }
   ],
   "source": [
    "mndata.train_img_fname"
   ]
  },
  {
   "cell_type": "code",
   "execution_count": 18,
   "metadata": {},
   "outputs": [],
   "source": [
    "# read the training dataset of Minst\n",
    "X_train, y_train = mndata.load_training()"
   ]
  },
  {
   "cell_type": "code",
   "execution_count": 19,
   "metadata": {},
   "outputs": [],
   "source": [
    "# read the testing dataset\n",
    "X_test, y_test = mndata.load_testing()"
   ]
  },
  {
   "cell_type": "code",
   "execution_count": 20,
   "metadata": {},
   "outputs": [
    {
     "output_type": "stream",
     "name": "stdout",
     "text": [
      "4\n"
     ]
    },
    {
     "output_type": "execute_result",
     "data": {
      "text/plain": [
       "['',\n",
       " '............................',\n",
       " '............................',\n",
       " '............................',\n",
       " '............................',\n",
       " '............................',\n",
       " '..................@.........',\n",
       " '....@.............@@........',\n",
       " '....@@............@@........',\n",
       " '....@@@...........@@........',\n",
       " '....@@@..........@@@........',\n",
       " '.....@@@.........@@@........',\n",
       " '.....@@@@........@@@........',\n",
       " '......@@@........@@@........',\n",
       " '......@@@.....@@@@@@........',\n",
       " '.......@@@@@@@@@@@@@........',\n",
       " '.......@@@@@@@@@@@@@........',\n",
       " '.......@@@@@@@@..@@@........',\n",
       " '.......@@@@@.....@@@........',\n",
       " '.................@@@@.......',\n",
       " '.................@@@@.......',\n",
       " '.................@@@@.......',\n",
       " '..................@@@@......',\n",
       " '...................@@@......',\n",
       " '....................@.......',\n",
       " '............................',\n",
       " '............................',\n",
       " '............................',\n",
       " '............................']"
      ]
     },
     "metadata": {},
     "execution_count": 20
    }
   ],
   "source": [
    "# read sample  training image\n",
    "testimage = mndata.display(X_train[20]).split('\\n')\n",
    "print(y_train[20])\n",
    "testimage"
   ]
  },
  {
   "cell_type": "code",
   "execution_count": 7,
   "metadata": {},
   "outputs": [
    {
     "name": "stdout",
     "output_type": "stream",
     "text": [
      "9\n"
     ]
    },
    {
     "data": {
      "text/plain": [
       "['',\n",
       " '............................',\n",
       " '............................',\n",
       " '............................',\n",
       " '............................',\n",
       " '............................',\n",
       " '............................',\n",
       " '............................',\n",
       " '...............@@@@.........',\n",
       " '.............@@@@@@@@.......',\n",
       " '............@@@@@@@@@@......',\n",
       " '...........@@@...@@@@.......',\n",
       " '..........@@@..@@@@@........',\n",
       " '.........@@@.@@@@@@@........',\n",
       " '........@@@@@@@..@@.........',\n",
       " '.........@@@@...@@..........',\n",
       " '................@@..........',\n",
       " '...............@@...........',\n",
       " '..............@@@...........',\n",
       " '..............@@............',\n",
       " '.............@@.............',\n",
       " '............@@@.............',\n",
       " '............@@..............',\n",
       " '...........@@@..............',\n",
       " '...........@@@..............',\n",
       " '..........@@@...............',\n",
       " '..........@.................',\n",
       " '............................',\n",
       " '............................']"
      ]
     },
     "execution_count": 7,
     "metadata": {},
     "output_type": "execute_result"
    }
   ],
   "source": [
    "# read sample  testing image\n",
    "testimage = mndata.display(X_test[20]).split('\\n')\n",
    "print(y_test[20])\n",
    "testimage"
   ]
  },
  {
   "cell_type": "code",
   "execution_count": 21,
   "metadata": {},
   "outputs": [
    {
     "output_type": "execute_result",
     "data": {
      "text/plain": [
       "<matplotlib.image.AxesImage at 0x1609f90d7f0>"
      ]
     },
     "metadata": {},
     "execution_count": 21
    },
    {
     "output_type": "display_data",
     "data": {
      "text/plain": "<Figure size 432x288 with 1 Axes>",
      "image/svg+xml": "<?xml version=\"1.0\" encoding=\"utf-8\" standalone=\"no\"?>\r\n<!DOCTYPE svg PUBLIC \"-//W3C//DTD SVG 1.1//EN\"\r\n  \"http://www.w3.org/Graphics/SVG/1.1/DTD/svg11.dtd\">\r\n<!-- Created with matplotlib (https://matplotlib.org/) -->\r\n<svg height=\"248.518125pt\" version=\"1.1\" viewBox=\"0 0 251.565 248.518125\" width=\"251.565pt\" xmlns=\"http://www.w3.org/2000/svg\" xmlns:xlink=\"http://www.w3.org/1999/xlink\">\r\n <metadata>\r\n  <rdf:RDF xmlns:cc=\"http://creativecommons.org/ns#\" xmlns:dc=\"http://purl.org/dc/elements/1.1/\" xmlns:rdf=\"http://www.w3.org/1999/02/22-rdf-syntax-ns#\">\r\n   <cc:Work>\r\n    <dc:type rdf:resource=\"http://purl.org/dc/dcmitype/StillImage\"/>\r\n    <dc:date>2021-03-13T20:52:19.817385</dc:date>\r\n    <dc:format>image/svg+xml</dc:format>\r\n    <dc:creator>\r\n     <cc:Agent>\r\n      <dc:title>Matplotlib v3.3.4, https://matplotlib.org/</dc:title>\r\n     </cc:Agent>\r\n    </dc:creator>\r\n   </cc:Work>\r\n  </rdf:RDF>\r\n </metadata>\r\n <defs>\r\n  <style type=\"text/css\">*{stroke-linecap:butt;stroke-linejoin:round;}</style>\r\n </defs>\r\n <g id=\"figure_1\">\r\n  <g id=\"patch_1\">\r\n   <path d=\"M 0 248.518125 \r\nL 251.565 248.518125 \r\nL 251.565 0 \r\nL 0 0 \r\nz\r\n\" style=\"fill:none;\"/>\r\n  </g>\r\n  <g id=\"axes_1\">\r\n   <g id=\"patch_2\">\r\n    <path d=\"M 26.925 224.64 \r\nL 244.365 224.64 \r\nL 244.365 7.2 \r\nL 26.925 7.2 \r\nz\r\n\" style=\"fill:#ffffff;\"/>\r\n   </g>\r\n   <g clip-path=\"url(#p0e27431e71)\">\r\n    <image height=\"218\" id=\"image4317af21d9\" transform=\"scale(1 -1)translate(0 -218)\" width=\"218\" x=\"26.925\" xlink:href=\"data:image/png;base64,\r\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\" y=\"-6.64\"/>\r\n   </g>\r\n   <g id=\"matplotlib.axis_1\">\r\n    <g id=\"xtick_1\">\r\n     <g id=\"line2d_1\">\r\n      <defs>\r\n       <path d=\"M 0 0 \r\nL 0 3.5 \r\n\" id=\"m7299d9bb2a\" style=\"stroke:#000000;stroke-width:0.8;\"/>\r\n      </defs>\r\n      <g>\r\n       <use style=\"stroke:#000000;stroke-width:0.8;\" x=\"30.807857\" xlink:href=\"#m7299d9bb2a\" y=\"224.64\"/>\r\n      </g>\r\n     </g>\r\n     <g id=\"text_1\">\r\n      <!-- 0 -->\r\n      <g transform=\"translate(27.626607 239.238437)scale(0.1 -0.1)\">\r\n       <defs>\r\n        <path d=\"M 31.78125 66.40625 \r\nQ 24.171875 66.40625 20.328125 58.90625 \r\nQ 16.5 51.421875 16.5 36.375 \r\nQ 16.5 21.390625 20.328125 13.890625 \r\nQ 24.171875 6.390625 31.78125 6.390625 \r\nQ 39.453125 6.390625 43.28125 13.890625 \r\nQ 47.125 21.390625 47.125 36.375 \r\nQ 47.125 51.421875 43.28125 58.90625 \r\nQ 39.453125 66.40625 31.78125 66.40625 \r\nz\r\nM 31.78125 74.21875 \r\nQ 44.046875 74.21875 50.515625 64.515625 \r\nQ 56.984375 54.828125 56.984375 36.375 \r\nQ 56.984375 17.96875 50.515625 8.265625 \r\nQ 44.046875 -1.421875 31.78125 -1.421875 \r\nQ 19.53125 -1.421875 13.0625 8.265625 \r\nQ 6.59375 17.96875 6.59375 36.375 \r\nQ 6.59375 54.828125 13.0625 64.515625 \r\nQ 19.53125 74.21875 31.78125 74.21875 \r\nz\r\n\" id=\"DejaVuSans-48\"/>\r\n       </defs>\r\n       <use xlink:href=\"#DejaVuSans-48\"/>\r\n      </g>\r\n     </g>\r\n    </g>\r\n    <g id=\"xtick_2\">\r\n     <g id=\"line2d_2\">\r\n      <g>\r\n       <use style=\"stroke:#000000;stroke-width:0.8;\" x=\"69.636429\" xlink:href=\"#m7299d9bb2a\" y=\"224.64\"/>\r\n      </g>\r\n     </g>\r\n     <g id=\"text_2\">\r\n      <!-- 5 -->\r\n      <g transform=\"translate(66.455179 239.238437)scale(0.1 -0.1)\">\r\n       <defs>\r\n        <path d=\"M 10.796875 72.90625 \r\nL 49.515625 72.90625 \r\nL 49.515625 64.59375 \r\nL 19.828125 64.59375 \r\nL 19.828125 46.734375 \r\nQ 21.96875 47.46875 24.109375 47.828125 \r\nQ 26.265625 48.1875 28.421875 48.1875 \r\nQ 40.625 48.1875 47.75 41.5 \r\nQ 54.890625 34.8125 54.890625 23.390625 \r\nQ 54.890625 11.625 47.5625 5.09375 \r\nQ 40.234375 -1.421875 26.90625 -1.421875 \r\nQ 22.3125 -1.421875 17.546875 -0.640625 \r\nQ 12.796875 0.140625 7.71875 1.703125 \r\nL 7.71875 11.625 \r\nQ 12.109375 9.234375 16.796875 8.0625 \r\nQ 21.484375 6.890625 26.703125 6.890625 \r\nQ 35.15625 6.890625 40.078125 11.328125 \r\nQ 45.015625 15.765625 45.015625 23.390625 \r\nQ 45.015625 31 40.078125 35.4375 \r\nQ 35.15625 39.890625 26.703125 39.890625 \r\nQ 22.75 39.890625 18.8125 39.015625 \r\nQ 14.890625 38.140625 10.796875 36.28125 \r\nz\r\n\" id=\"DejaVuSans-53\"/>\r\n       </defs>\r\n       <use xlink:href=\"#DejaVuSans-53\"/>\r\n      </g>\r\n     </g>\r\n    </g>\r\n    <g id=\"xtick_3\">\r\n     <g id=\"line2d_3\">\r\n      <g>\r\n       <use style=\"stroke:#000000;stroke-width:0.8;\" x=\"108.465\" xlink:href=\"#m7299d9bb2a\" y=\"224.64\"/>\r\n      </g>\r\n     </g>\r\n     <g id=\"text_3\">\r\n      <!-- 10 -->\r\n      <g transform=\"translate(102.1025 239.238437)scale(0.1 -0.1)\">\r\n       <defs>\r\n        <path d=\"M 12.40625 8.296875 \r\nL 28.515625 8.296875 \r\nL 28.515625 63.921875 \r\nL 10.984375 60.40625 \r\nL 10.984375 69.390625 \r\nL 28.421875 72.90625 \r\nL 38.28125 72.90625 \r\nL 38.28125 8.296875 \r\nL 54.390625 8.296875 \r\nL 54.390625 0 \r\nL 12.40625 0 \r\nz\r\n\" id=\"DejaVuSans-49\"/>\r\n       </defs>\r\n       <use xlink:href=\"#DejaVuSans-49\"/>\r\n       <use x=\"63.623047\" xlink:href=\"#DejaVuSans-48\"/>\r\n      </g>\r\n     </g>\r\n    </g>\r\n    <g id=\"xtick_4\">\r\n     <g id=\"line2d_4\">\r\n      <g>\r\n       <use style=\"stroke:#000000;stroke-width:0.8;\" x=\"147.293571\" xlink:href=\"#m7299d9bb2a\" y=\"224.64\"/>\r\n      </g>\r\n     </g>\r\n     <g id=\"text_4\">\r\n      <!-- 15 -->\r\n      <g transform=\"translate(140.931071 239.238437)scale(0.1 -0.1)\">\r\n       <use xlink:href=\"#DejaVuSans-49\"/>\r\n       <use x=\"63.623047\" xlink:href=\"#DejaVuSans-53\"/>\r\n      </g>\r\n     </g>\r\n    </g>\r\n    <g id=\"xtick_5\">\r\n     <g id=\"line2d_5\">\r\n      <g>\r\n       <use style=\"stroke:#000000;stroke-width:0.8;\" x=\"186.122143\" xlink:href=\"#m7299d9bb2a\" y=\"224.64\"/>\r\n      </g>\r\n     </g>\r\n     <g id=\"text_5\">\r\n      <!-- 20 -->\r\n      <g transform=\"translate(179.759643 239.238437)scale(0.1 -0.1)\">\r\n       <defs>\r\n        <path d=\"M 19.1875 8.296875 \r\nL 53.609375 8.296875 \r\nL 53.609375 0 \r\nL 7.328125 0 \r\nL 7.328125 8.296875 \r\nQ 12.9375 14.109375 22.625 23.890625 \r\nQ 32.328125 33.6875 34.8125 36.53125 \r\nQ 39.546875 41.84375 41.421875 45.53125 \r\nQ 43.3125 49.21875 43.3125 52.78125 \r\nQ 43.3125 58.59375 39.234375 62.25 \r\nQ 35.15625 65.921875 28.609375 65.921875 \r\nQ 23.96875 65.921875 18.8125 64.3125 \r\nQ 13.671875 62.703125 7.8125 59.421875 \r\nL 7.8125 69.390625 \r\nQ 13.765625 71.78125 18.9375 73 \r\nQ 24.125 74.21875 28.421875 74.21875 \r\nQ 39.75 74.21875 46.484375 68.546875 \r\nQ 53.21875 62.890625 53.21875 53.421875 \r\nQ 53.21875 48.921875 51.53125 44.890625 \r\nQ 49.859375 40.875 45.40625 35.40625 \r\nQ 44.1875 33.984375 37.640625 27.21875 \r\nQ 31.109375 20.453125 19.1875 8.296875 \r\nz\r\n\" id=\"DejaVuSans-50\"/>\r\n       </defs>\r\n       <use xlink:href=\"#DejaVuSans-50\"/>\r\n       <use x=\"63.623047\" xlink:href=\"#DejaVuSans-48\"/>\r\n      </g>\r\n     </g>\r\n    </g>\r\n    <g id=\"xtick_6\">\r\n     <g id=\"line2d_6\">\r\n      <g>\r\n       <use style=\"stroke:#000000;stroke-width:0.8;\" x=\"224.950714\" xlink:href=\"#m7299d9bb2a\" y=\"224.64\"/>\r\n      </g>\r\n     </g>\r\n     <g id=\"text_6\">\r\n      <!-- 25 -->\r\n      <g transform=\"translate(218.588214 239.238437)scale(0.1 -0.1)\">\r\n       <use xlink:href=\"#DejaVuSans-50\"/>\r\n       <use x=\"63.623047\" xlink:href=\"#DejaVuSans-53\"/>\r\n      </g>\r\n     </g>\r\n    </g>\r\n   </g>\r\n   <g id=\"matplotlib.axis_2\">\r\n    <g id=\"ytick_1\">\r\n     <g id=\"line2d_7\">\r\n      <defs>\r\n       <path d=\"M 0 0 \r\nL -3.5 0 \r\n\" id=\"m0df58271fc\" style=\"stroke:#000000;stroke-width:0.8;\"/>\r\n      </defs>\r\n      <g>\r\n       <use style=\"stroke:#000000;stroke-width:0.8;\" x=\"26.925\" xlink:href=\"#m0df58271fc\" y=\"11.082857\"/>\r\n      </g>\r\n     </g>\r\n     <g id=\"text_7\">\r\n      <!-- 0 -->\r\n      <g transform=\"translate(13.5625 14.882076)scale(0.1 -0.1)\">\r\n       <use xlink:href=\"#DejaVuSans-48\"/>\r\n      </g>\r\n     </g>\r\n    </g>\r\n    <g id=\"ytick_2\">\r\n     <g id=\"line2d_8\">\r\n      <g>\r\n       <use style=\"stroke:#000000;stroke-width:0.8;\" x=\"26.925\" xlink:href=\"#m0df58271fc\" y=\"49.911429\"/>\r\n      </g>\r\n     </g>\r\n     <g id=\"text_8\">\r\n      <!-- 5 -->\r\n      <g transform=\"translate(13.5625 53.710647)scale(0.1 -0.1)\">\r\n       <use xlink:href=\"#DejaVuSans-53\"/>\r\n      </g>\r\n     </g>\r\n    </g>\r\n    <g id=\"ytick_3\">\r\n     <g id=\"line2d_9\">\r\n      <g>\r\n       <use style=\"stroke:#000000;stroke-width:0.8;\" x=\"26.925\" xlink:href=\"#m0df58271fc\" y=\"88.74\"/>\r\n      </g>\r\n     </g>\r\n     <g id=\"text_9\">\r\n      <!-- 10 -->\r\n      <g transform=\"translate(7.2 92.539219)scale(0.1 -0.1)\">\r\n       <use xlink:href=\"#DejaVuSans-49\"/>\r\n       <use x=\"63.623047\" xlink:href=\"#DejaVuSans-48\"/>\r\n      </g>\r\n     </g>\r\n    </g>\r\n    <g id=\"ytick_4\">\r\n     <g id=\"line2d_10\">\r\n      <g>\r\n       <use style=\"stroke:#000000;stroke-width:0.8;\" x=\"26.925\" xlink:href=\"#m0df58271fc\" y=\"127.568571\"/>\r\n      </g>\r\n     </g>\r\n     <g id=\"text_10\">\r\n      <!-- 15 -->\r\n      <g transform=\"translate(7.2 131.36779)scale(0.1 -0.1)\">\r\n       <use xlink:href=\"#DejaVuSans-49\"/>\r\n       <use x=\"63.623047\" xlink:href=\"#DejaVuSans-53\"/>\r\n      </g>\r\n     </g>\r\n    </g>\r\n    <g id=\"ytick_5\">\r\n     <g id=\"line2d_11\">\r\n      <g>\r\n       <use style=\"stroke:#000000;stroke-width:0.8;\" x=\"26.925\" xlink:href=\"#m0df58271fc\" y=\"166.397143\"/>\r\n      </g>\r\n     </g>\r\n     <g id=\"text_11\">\r\n      <!-- 20 -->\r\n      <g transform=\"translate(7.2 170.196362)scale(0.1 -0.1)\">\r\n       <use xlink:href=\"#DejaVuSans-50\"/>\r\n       <use x=\"63.623047\" xlink:href=\"#DejaVuSans-48\"/>\r\n      </g>\r\n     </g>\r\n    </g>\r\n    <g id=\"ytick_6\">\r\n     <g id=\"line2d_12\">\r\n      <g>\r\n       <use style=\"stroke:#000000;stroke-width:0.8;\" x=\"26.925\" xlink:href=\"#m0df58271fc\" y=\"205.225714\"/>\r\n      </g>\r\n     </g>\r\n     <g id=\"text_12\">\r\n      <!-- 25 -->\r\n      <g transform=\"translate(7.2 209.024933)scale(0.1 -0.1)\">\r\n       <use xlink:href=\"#DejaVuSans-50\"/>\r\n       <use x=\"63.623047\" xlink:href=\"#DejaVuSans-53\"/>\r\n      </g>\r\n     </g>\r\n    </g>\r\n   </g>\r\n   <g id=\"patch_3\">\r\n    <path d=\"M 26.925 224.64 \r\nL 26.925 7.2 \r\n\" style=\"fill:none;stroke:#000000;stroke-linecap:square;stroke-linejoin:miter;stroke-width:0.8;\"/>\r\n   </g>\r\n   <g id=\"patch_4\">\r\n    <path d=\"M 244.365 224.64 \r\nL 244.365 7.2 \r\n\" style=\"fill:none;stroke:#000000;stroke-linecap:square;stroke-linejoin:miter;stroke-width:0.8;\"/>\r\n   </g>\r\n   <g id=\"patch_5\">\r\n    <path d=\"M 26.925 224.64 \r\nL 244.365 224.64 \r\n\" style=\"fill:none;stroke:#000000;stroke-linecap:square;stroke-linejoin:miter;stroke-width:0.8;\"/>\r\n   </g>\r\n   <g id=\"patch_6\">\r\n    <path d=\"M 26.925 7.2 \r\nL 244.365 7.2 \r\n\" style=\"fill:none;stroke:#000000;stroke-linecap:square;stroke-linejoin:miter;stroke-width:0.8;\"/>\r\n   </g>\r\n  </g>\r\n </g>\r\n <defs>\r\n  <clipPath id=\"p0e27431e71\">\r\n   <rect height=\"217.44\" width=\"217.44\" x=\"26.925\" y=\"7.2\"/>\r\n  </clipPath>\r\n </defs>\r\n</svg>\r\n",
      "image/png": "[encoded data removed]"
     },
     "metadata": {
      "needs_background": "light"
     }
    }
   ],
   "source": [
    "import matplotlib.pyplot as plt\n",
    "%matplotlib inline\n",
    "X_test_reshped = np.array(X_test[20])\n",
    "plt.imshow(X_test_reshped.reshape(28,28))"
   ]
  },
  {
   "cell_type": "code",
   "execution_count": 22,
   "metadata": {},
   "outputs": [
    {
     "output_type": "execute_result",
     "data": {
      "text/plain": [
       "array([  0,   0,   0,   0,   0,   0,   0,   0,   0,   0,   0,   0,   0,\n",
       "         0,   0,   0,   0,   0,   0,   0,   0,   0,   0,   0,   0,   0,\n",
       "         0,   0,   0,   0,   0,   0,   0,   0,   0,   0,   0,   0,   0,\n",
       "         0,   0,   0,   0,   0,   0,   0,   0,   0,   0,   0,   0,   0,\n",
       "         0,   0,   0,   0,   0,   0,   0,   0,   0,   0,   0,   0,   0,\n",
       "         0,   0,   0,   0,   0,   0,   0,   0,   0,   0,   0,   0,   0,\n",
       "         0,   0,   0,   0,   0,   0,   0,   0,   0,   0,   0,   0,   0,\n",
       "         0,   0,   0,   0,   0,   0,   0,   0,   0,   0,   0,   0,   0,\n",
       "         0,   0,   0,   0,   0,   0,   0,   0,   0,   0,   0,   0,   0,\n",
       "         0,   0,   0,   0,   0,   0,   0,   0,   0,   0,   0,   0,   0,\n",
       "         0,   0,   0,   0,   0,   0,   0,   0,   0,   0,   0,   0,   0,\n",
       "         0,   0,   0,   0,   0,   0,   0,   0,   0,   0,   0,   0,   0,\n",
       "         0,   0,   0,   0,   0,   0,   0,   0,   0,   0,   0,   0,   0,\n",
       "         0,   0,   0,   0,   0,   0,   0,   0,   0,   0,   0,   0,   0,\n",
       "         0,  31, 140, 193,  44,   0,   0,   0,   0,   0,   0,   0,   0,\n",
       "         0,   0,   0,   0,   0,   0,   0,   0,   0,   0,   0,   0,   0,\n",
       "         0,  38, 146, 240, 254, 254, 228,  48,  77,  46,   0,   0,   0,\n",
       "         0,   0,   0,   0,   0,   0,   0,   0,   0,   0,   0,   0,   0,\n",
       "         0,   2,  43, 230, 254, 254, 254, 254, 254, 241, 254, 197,   2,\n",
       "         0,   0,   0,   0,   0,   0,   0,   0,   0,   0,   0,   0,   0,\n",
       "         0,   0,  21, 130, 254, 254, 254, 239, 252, 254, 254, 254, 254,\n",
       "       237,   4,   0,   0,   0,   0,   0,   0,   0,   0,   0,   0,   0,\n",
       "         0,   0,   0,   0, 154, 254, 254, 249, 104,  71, 198, 254, 254,\n",
       "       254, 234,  57,   0,   0,   0,   0,   0,   0,   0,   0,   0,   0,\n",
       "         0,   0,   0,   0,   2, 173, 252, 252, 206,  51, 120, 215, 254,\n",
       "       254, 254, 254, 184,   0,   0,   0,   0,   0,   0,   0,   0,   0,\n",
       "         0,   0,   0,   0,   0,   0, 112, 254, 254, 215,  87, 247, 254,\n",
       "       254, 254, 254, 254, 217,  31,   0,   0,   0,   0,   0,   0,   0,\n",
       "         0,   0,   0,   0,   0,   0,   0,   5, 231, 254, 254, 254, 254,\n",
       "       254, 236, 128, 196, 254, 254, 119,   0,   0,   0,   0,   0,   0,\n",
       "         0,   0,   0,   0,   0,   0,   0,   0,   0,   3, 197, 254, 254,\n",
       "       245, 238, 131,  17,  46, 247, 254, 199,  14,   0,   0,   0,   0,\n",
       "         0,   0,   0,   0,   0,   0,   0,   0,   0,   0,   0,   0,  16,\n",
       "        92,  88,  40,   0,   0,  12, 173, 254, 242,  38,   0,   0,   0,\n",
       "         0,   0,   0,   0,   0,   0,   0,   0,   0,   0,   0,   0,   0,\n",
       "         0,   0,   0,   0,   0,   0,   0,  95, 254, 254, 155,   0,   0,\n",
       "         0,   0,   0,   0,   0,   0,   0,   0,   0,   0,   0,   0,   0,\n",
       "         0,   0,   0,   0,   0,   0,   0,   0,  18, 210, 254, 225,   6,\n",
       "         0,   0,   0,   0,   0,   0,   0,   0,   0,   0,   0,   0,   0,\n",
       "         0,   0,   0,   0,   0,   0,   0,   0,   0,   0, 197, 254, 254,\n",
       "        99,   0,   0,   0,   0,   0,   0,   0,   0,   0,   0,   0,   0,\n",
       "         0,   0,   0,   0,   0,   0,   0,   0,   0,   0,   0,  34, 242,\n",
       "       254, 179,   3,   0,   0,   0,   0,   0,   0,   0,   0,   0,   0,\n",
       "         0,   0,   0,   0,   0,   0,   0,   0,   0,   0,   0,   0,  27,\n",
       "       223, 254, 225,  30,   0,   0,   0,   0,   0,   0,   0,   0,   0,\n",
       "         0,   0,   0,   0,   0,   0,   0,   0,   0,   0,   0,   0,   0,\n",
       "         0,  77, 254, 255, 127,   0,   0,   0,   0,   0,   0,   0,   0,\n",
       "         0,   0,   0,   0,   0,   0,   0,   0,   0,   0,   0,   0,   0,\n",
       "         0,   0,  54, 238, 254, 248,  53,   0,   0,   0,   0,   0,   0,\n",
       "         0,   0,   0,   0,   0,   0,   0,   0,   0,   0,   0,   0,   0,\n",
       "         0,   0,   0,  11, 183, 254, 254, 231,  41,   0,   0,   0,   0,\n",
       "         0,   0,   0,   0,   0,   0,   0,   0,   0,   0,   0,   0,   0,\n",
       "         0,   0,   0,   0,   0, 113, 254, 254, 230,  48,   0,   0,   0,\n",
       "         0,   0,   0,   0,   0,   0,   0,   0,   0,   0,   0,   0,   0,\n",
       "         0,   0,   0,   0,   0,   0,   0, 110, 239, 126,  25,   0,   0,\n",
       "         0,   0,   0,   0,   0,   0,   0,   0,   0,   0,   0,   0,   0,\n",
       "         0,   0,   0,   0,   0,   0,   0,   0,   0,   0,   0,   0,   0,\n",
       "         0,   0,   0,   0,   0,   0,   0,   0,   0,   0,   0,   0,   0,\n",
       "         0,   0,   0,   0,   0,   0,   0,   0,   0,   0,   0,   0,   0,\n",
       "         0,   0,   0,   0,   0,   0,   0,   0,   0,   0,   0,   0,   0,\n",
       "         0,   0,   0,   0])"
      ]
     },
     "metadata": {},
     "execution_count": 22
    }
   ],
   "source": [
    "X_train = np.array(X_train)\n",
    "X_test = np.array(X_test)\n",
    "X_test[20]\n",
    "\n",
    "# scale data\n",
    "#from sklearn.preprocessing import MinMaxScaler\n",
    "#t = MinMaxScaler()\n",
    "#t.fit(X_train)\n",
    "#X_train = t.transform(X_train)\n",
    "#X_test = t.transform(X_test)"
   ]
  },
  {
   "cell_type": "code",
   "execution_count": 10,
   "metadata": {},
   "outputs": [],
   "source": [
    "# Reshape the training and test dataset\n",
    "# Reshape to include channel dimension (in this case, 1 channel)\n",
    "X_train = np.array(X_train)\n",
    "X_test = np.array(X_test)\n",
    "X_train = X_train.reshape(60000, 28, 28)\n",
    "X_test = X_test.reshape(10000, 28,28)"
   ]
  },
  {
   "cell_type": "code",
   "execution_count": 18,
   "metadata": {},
   "outputs": [
    {
     "output_type": "execute_result",
     "data": {
      "text/plain": [
       "(60000, 784)"
      ]
     },
     "metadata": {},
     "execution_count": 18
    }
   ],
   "source": [
    "X_train.shape"
   ]
  },
  {
   "cell_type": "code",
   "execution_count": 19,
   "metadata": {},
   "outputs": [
    {
     "output_type": "execute_result",
     "data": {
      "text/plain": [
       "(10000, 784)"
      ]
     },
     "metadata": {},
     "execution_count": 19
    }
   ],
   "source": [
    "X_test.shape"
   ]
  },
  {
   "cell_type": "code",
   "execution_count": null,
   "metadata": {},
   "outputs": [],
   "source": []
  },
  {
   "cell_type": "code",
   "execution_count": 20,
   "metadata": {},
   "outputs": [],
   "source": [
    "# alternative way of transofrming data\n",
    "# normalize the data for beter results in mahcine learning\n",
    "X_train = X_train/255\n",
    "X_test = X_test/255"
   ]
  },
  {
   "cell_type": "code",
   "execution_count": 14,
   "metadata": {},
   "outputs": [
    {
     "data": {
      "text/plain": [
       "array([[0.        , 0.        , 0.        , 0.        , 0.        ,\n",
       "        0.        , 0.        , 0.        , 0.        , 0.        ,\n",
       "        0.        , 0.        , 0.        , 0.        , 0.        ,\n",
       "        0.        , 0.        , 0.        , 0.        , 0.        ,\n",
       "        0.        , 0.        , 0.        , 0.        , 0.        ,\n",
       "        0.        , 0.        , 0.        ],\n",
       "       [0.        , 0.        , 0.        , 0.        , 0.        ,\n",
       "        0.        , 0.        , 0.        , 0.        , 0.        ,\n",
       "        0.        , 0.        , 0.        , 0.        , 0.        ,\n",
       "        0.        , 0.        , 0.        , 0.        , 0.        ,\n",
       "        0.        , 0.        , 0.        , 0.        , 0.        ,\n",
       "        0.        , 0.        , 0.        ],\n",
       "       [0.        , 0.        , 0.        , 0.        , 0.        ,\n",
       "        0.        , 0.        , 0.        , 0.        , 0.        ,\n",
       "        0.        , 0.        , 0.        , 0.        , 0.        ,\n",
       "        0.        , 0.        , 0.        , 0.        , 0.        ,\n",
       "        0.        , 0.        , 0.        , 0.        , 0.        ,\n",
       "        0.        , 0.        , 0.        ],\n",
       "       [0.        , 0.        , 0.        , 0.        , 0.        ,\n",
       "        0.        , 0.        , 0.        , 0.        , 0.        ,\n",
       "        0.        , 0.        , 0.        , 0.        , 0.        ,\n",
       "        0.        , 0.        , 0.        , 0.        , 0.        ,\n",
       "        0.        , 0.        , 0.        , 0.        , 0.        ,\n",
       "        0.        , 0.        , 0.        ],\n",
       "       [0.        , 0.        , 0.        , 0.        , 0.        ,\n",
       "        0.        , 0.        , 0.        , 0.        , 0.        ,\n",
       "        0.        , 0.        , 0.        , 0.        , 0.        ,\n",
       "        0.        , 0.        , 0.        , 0.        , 0.        ,\n",
       "        0.        , 0.        , 0.        , 0.        , 0.        ,\n",
       "        0.        , 0.        , 0.        ],\n",
       "       [0.        , 0.        , 0.        , 0.        , 0.        ,\n",
       "        0.        , 0.        , 0.        , 0.        , 0.        ,\n",
       "        0.        , 0.        , 0.        , 0.        , 0.        ,\n",
       "        0.        , 0.        , 0.        , 0.        , 0.        ,\n",
       "        0.        , 0.        , 0.        , 0.        , 0.        ,\n",
       "        0.        , 0.        , 0.        ],\n",
       "       [0.        , 0.        , 0.        , 0.        , 0.        ,\n",
       "        0.        , 0.        , 0.        , 0.        , 0.        ,\n",
       "        0.        , 0.        , 0.        , 0.        , 0.        ,\n",
       "        0.12156863, 0.54901961, 0.75686275, 0.17254902, 0.        ,\n",
       "        0.        , 0.        , 0.        , 0.        , 0.        ,\n",
       "        0.        , 0.        , 0.        ],\n",
       "       [0.        , 0.        , 0.        , 0.        , 0.        ,\n",
       "        0.        , 0.        , 0.        , 0.        , 0.        ,\n",
       "        0.        , 0.        , 0.        , 0.14901961, 0.57254902,\n",
       "        0.94117647, 0.99607843, 0.99607843, 0.89411765, 0.18823529,\n",
       "        0.30196078, 0.18039216, 0.        , 0.        , 0.        ,\n",
       "        0.        , 0.        , 0.        ],\n",
       "       [0.        , 0.        , 0.        , 0.        , 0.        ,\n",
       "        0.        , 0.        , 0.        , 0.        , 0.        ,\n",
       "        0.        , 0.00784314, 0.16862745, 0.90196078, 0.99607843,\n",
       "        0.99607843, 0.99607843, 0.99607843, 0.99607843, 0.94509804,\n",
       "        0.99607843, 0.77254902, 0.00784314, 0.        , 0.        ,\n",
       "        0.        , 0.        , 0.        ],\n",
       "       [0.        , 0.        , 0.        , 0.        , 0.        ,\n",
       "        0.        , 0.        , 0.        , 0.        , 0.        ,\n",
       "        0.08235294, 0.50980392, 0.99607843, 0.99607843, 0.99607843,\n",
       "        0.9372549 , 0.98823529, 0.99607843, 0.99607843, 0.99607843,\n",
       "        0.99607843, 0.92941176, 0.01568627, 0.        , 0.        ,\n",
       "        0.        , 0.        , 0.        ],\n",
       "       [0.        , 0.        , 0.        , 0.        , 0.        ,\n",
       "        0.        , 0.        , 0.        , 0.        , 0.        ,\n",
       "        0.60392157, 0.99607843, 0.99607843, 0.97647059, 0.40784314,\n",
       "        0.27843137, 0.77647059, 0.99607843, 0.99607843, 0.99607843,\n",
       "        0.91764706, 0.22352941, 0.        , 0.        , 0.        ,\n",
       "        0.        , 0.        , 0.        ],\n",
       "       [0.        , 0.        , 0.        , 0.        , 0.        ,\n",
       "        0.        , 0.        , 0.        , 0.00784314, 0.67843137,\n",
       "        0.98823529, 0.98823529, 0.80784314, 0.2       , 0.47058824,\n",
       "        0.84313725, 0.99607843, 0.99607843, 0.99607843, 0.99607843,\n",
       "        0.72156863, 0.        , 0.        , 0.        , 0.        ,\n",
       "        0.        , 0.        , 0.        ],\n",
       "       [0.        , 0.        , 0.        , 0.        , 0.        ,\n",
       "        0.        , 0.        , 0.        , 0.43921569, 0.99607843,\n",
       "        0.99607843, 0.84313725, 0.34117647, 0.96862745, 0.99607843,\n",
       "        0.99607843, 0.99607843, 0.99607843, 0.99607843, 0.85098039,\n",
       "        0.12156863, 0.        , 0.        , 0.        , 0.        ,\n",
       "        0.        , 0.        , 0.        ],\n",
       "       [0.        , 0.        , 0.        , 0.        , 0.        ,\n",
       "        0.        , 0.        , 0.01960784, 0.90588235, 0.99607843,\n",
       "        0.99607843, 0.99607843, 0.99607843, 0.99607843, 0.9254902 ,\n",
       "        0.50196078, 0.76862745, 0.99607843, 0.99607843, 0.46666667,\n",
       "        0.        , 0.        , 0.        , 0.        , 0.        ,\n",
       "        0.        , 0.        , 0.        ],\n",
       "       [0.        , 0.        , 0.        , 0.        , 0.        ,\n",
       "        0.        , 0.        , 0.01176471, 0.77254902, 0.99607843,\n",
       "        0.99607843, 0.96078431, 0.93333333, 0.51372549, 0.06666667,\n",
       "        0.18039216, 0.96862745, 0.99607843, 0.78039216, 0.05490196,\n",
       "        0.        , 0.        , 0.        , 0.        , 0.        ,\n",
       "        0.        , 0.        , 0.        ],\n",
       "       [0.        , 0.        , 0.        , 0.        , 0.        ,\n",
       "        0.        , 0.        , 0.        , 0.0627451 , 0.36078431,\n",
       "        0.34509804, 0.15686275, 0.        , 0.        , 0.04705882,\n",
       "        0.67843137, 0.99607843, 0.94901961, 0.14901961, 0.        ,\n",
       "        0.        , 0.        , 0.        , 0.        , 0.        ,\n",
       "        0.        , 0.        , 0.        ],\n",
       "       [0.        , 0.        , 0.        , 0.        , 0.        ,\n",
       "        0.        , 0.        , 0.        , 0.        , 0.        ,\n",
       "        0.        , 0.        , 0.        , 0.        , 0.37254902,\n",
       "        0.99607843, 0.99607843, 0.60784314, 0.        , 0.        ,\n",
       "        0.        , 0.        , 0.        , 0.        , 0.        ,\n",
       "        0.        , 0.        , 0.        ],\n",
       "       [0.        , 0.        , 0.        , 0.        , 0.        ,\n",
       "        0.        , 0.        , 0.        , 0.        , 0.        ,\n",
       "        0.        , 0.        , 0.        , 0.07058824, 0.82352941,\n",
       "        0.99607843, 0.88235294, 0.02352941, 0.        , 0.        ,\n",
       "        0.        , 0.        , 0.        , 0.        , 0.        ,\n",
       "        0.        , 0.        , 0.        ],\n",
       "       [0.        , 0.        , 0.        , 0.        , 0.        ,\n",
       "        0.        , 0.        , 0.        , 0.        , 0.        ,\n",
       "        0.        , 0.        , 0.        , 0.77254902, 0.99607843,\n",
       "        0.99607843, 0.38823529, 0.        , 0.        , 0.        ,\n",
       "        0.        , 0.        , 0.        , 0.        , 0.        ,\n",
       "        0.        , 0.        , 0.        ],\n",
       "       [0.        , 0.        , 0.        , 0.        , 0.        ,\n",
       "        0.        , 0.        , 0.        , 0.        , 0.        ,\n",
       "        0.        , 0.        , 0.13333333, 0.94901961, 0.99607843,\n",
       "        0.70196078, 0.01176471, 0.        , 0.        , 0.        ,\n",
       "        0.        , 0.        , 0.        , 0.        , 0.        ,\n",
       "        0.        , 0.        , 0.        ],\n",
       "       [0.        , 0.        , 0.        , 0.        , 0.        ,\n",
       "        0.        , 0.        , 0.        , 0.        , 0.        ,\n",
       "        0.        , 0.10588235, 0.8745098 , 0.99607843, 0.88235294,\n",
       "        0.11764706, 0.        , 0.        , 0.        , 0.        ,\n",
       "        0.        , 0.        , 0.        , 0.        , 0.        ,\n",
       "        0.        , 0.        , 0.        ],\n",
       "       [0.        , 0.        , 0.        , 0.        , 0.        ,\n",
       "        0.        , 0.        , 0.        , 0.        , 0.        ,\n",
       "        0.        , 0.30196078, 0.99607843, 1.        , 0.49803922,\n",
       "        0.        , 0.        , 0.        , 0.        , 0.        ,\n",
       "        0.        , 0.        , 0.        , 0.        , 0.        ,\n",
       "        0.        , 0.        , 0.        ],\n",
       "       [0.        , 0.        , 0.        , 0.        , 0.        ,\n",
       "        0.        , 0.        , 0.        , 0.        , 0.        ,\n",
       "        0.21176471, 0.93333333, 0.99607843, 0.97254902, 0.20784314,\n",
       "        0.        , 0.        , 0.        , 0.        , 0.        ,\n",
       "        0.        , 0.        , 0.        , 0.        , 0.        ,\n",
       "        0.        , 0.        , 0.        ],\n",
       "       [0.        , 0.        , 0.        , 0.        , 0.        ,\n",
       "        0.        , 0.        , 0.        , 0.        , 0.04313725,\n",
       "        0.71764706, 0.99607843, 0.99607843, 0.90588235, 0.16078431,\n",
       "        0.        , 0.        , 0.        , 0.        , 0.        ,\n",
       "        0.        , 0.        , 0.        , 0.        , 0.        ,\n",
       "        0.        , 0.        , 0.        ],\n",
       "       [0.        , 0.        , 0.        , 0.        , 0.        ,\n",
       "        0.        , 0.        , 0.        , 0.        , 0.44313725,\n",
       "        0.99607843, 0.99607843, 0.90196078, 0.18823529, 0.        ,\n",
       "        0.        , 0.        , 0.        , 0.        , 0.        ,\n",
       "        0.        , 0.        , 0.        , 0.        , 0.        ,\n",
       "        0.        , 0.        , 0.        ],\n",
       "       [0.        , 0.        , 0.        , 0.        , 0.        ,\n",
       "        0.        , 0.        , 0.        , 0.        , 0.43137255,\n",
       "        0.9372549 , 0.49411765, 0.09803922, 0.        , 0.        ,\n",
       "        0.        , 0.        , 0.        , 0.        , 0.        ,\n",
       "        0.        , 0.        , 0.        , 0.        , 0.        ,\n",
       "        0.        , 0.        , 0.        ],\n",
       "       [0.        , 0.        , 0.        , 0.        , 0.        ,\n",
       "        0.        , 0.        , 0.        , 0.        , 0.        ,\n",
       "        0.        , 0.        , 0.        , 0.        , 0.        ,\n",
       "        0.        , 0.        , 0.        , 0.        , 0.        ,\n",
       "        0.        , 0.        , 0.        , 0.        , 0.        ,\n",
       "        0.        , 0.        , 0.        ],\n",
       "       [0.        , 0.        , 0.        , 0.        , 0.        ,\n",
       "        0.        , 0.        , 0.        , 0.        , 0.        ,\n",
       "        0.        , 0.        , 0.        , 0.        , 0.        ,\n",
       "        0.        , 0.        , 0.        , 0.        , 0.        ,\n",
       "        0.        , 0.        , 0.        , 0.        , 0.        ,\n",
       "        0.        , 0.        , 0.        ]])"
      ]
     },
     "execution_count": 14,
     "metadata": {},
     "output_type": "execute_result"
    }
   ],
   "source": [
    "X_test[20]"
   ]
  },
  {
   "cell_type": "code",
   "execution_count": 21,
   "metadata": {},
   "outputs": [
    {
     "output_type": "execute_result",
     "data": {
      "text/plain": [
       "<matplotlib.image.AxesImage at 0x1fc1ea60f40>"
      ]
     },
     "metadata": {},
     "execution_count": 21
    },
    {
     "output_type": "display_data",
     "data": {
      "text/plain": "<Figure size 432x288 with 1 Axes>",
      "image/svg+xml": "<?xml version=\"1.0\" encoding=\"utf-8\" standalone=\"no\"?>\r\n<!DOCTYPE svg PUBLIC \"-//W3C//DTD SVG 1.1//EN\"\r\n  \"http://www.w3.org/Graphics/SVG/1.1/DTD/svg11.dtd\">\r\n<!-- Created with matplotlib (https://matplotlib.org/) -->\r\n<svg height=\"248.518125pt\" version=\"1.1\" viewBox=\"0 0 251.565 248.518125\" width=\"251.565pt\" xmlns=\"http://www.w3.org/2000/svg\" xmlns:xlink=\"http://www.w3.org/1999/xlink\">\r\n <metadata>\r\n  <rdf:RDF xmlns:cc=\"http://creativecommons.org/ns#\" xmlns:dc=\"http://purl.org/dc/elements/1.1/\" xmlns:rdf=\"http://www.w3.org/1999/02/22-rdf-syntax-ns#\">\r\n   <cc:Work>\r\n    <dc:type rdf:resource=\"http://purl.org/dc/dcmitype/StillImage\"/>\r\n    <dc:date>2021-03-13T18:16:51.472828</dc:date>\r\n    <dc:format>image/svg+xml</dc:format>\r\n    <dc:creator>\r\n     <cc:Agent>\r\n      <dc:title>Matplotlib v3.3.4, https://matplotlib.org/</dc:title>\r\n     </cc:Agent>\r\n    </dc:creator>\r\n   </cc:Work>\r\n  </rdf:RDF>\r\n </metadata>\r\n <defs>\r\n  <style type=\"text/css\">*{stroke-linecap:butt;stroke-linejoin:round;}</style>\r\n </defs>\r\n <g id=\"figure_1\">\r\n  <g id=\"patch_1\">\r\n   <path d=\"M 0 248.518125 \r\nL 251.565 248.518125 \r\nL 251.565 0 \r\nL 0 0 \r\nz\r\n\" style=\"fill:none;\"/>\r\n  </g>\r\n  <g id=\"axes_1\">\r\n   <g id=\"patch_2\">\r\n    <path d=\"M 26.925 224.64 \r\nL 244.365 224.64 \r\nL 244.365 7.2 \r\nL 26.925 7.2 \r\nz\r\n\" style=\"fill:#ffffff;\"/>\r\n   </g>\r\n   <g clip-path=\"url(#ped2b3e47e4)\">\r\n    <image height=\"218\" id=\"image12ce02113f\" transform=\"scale(1 -1)translate(0 -218)\" width=\"218\" x=\"26.925\" xlink:href=\"data:image/png;base64,\r\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\" y=\"-6.64\"/>\r\n   </g>\r\n   <g id=\"matplotlib.axis_1\">\r\n    <g id=\"xtick_1\">\r\n     <g id=\"line2d_1\">\r\n      <defs>\r\n       <path d=\"M 0 0 \r\nL 0 3.5 \r\n\" id=\"m1c89329b31\" style=\"stroke:#000000;stroke-width:0.8;\"/>\r\n      </defs>\r\n      <g>\r\n       <use style=\"stroke:#000000;stroke-width:0.8;\" x=\"30.807857\" xlink:href=\"#m1c89329b31\" y=\"224.64\"/>\r\n      </g>\r\n     </g>\r\n     <g id=\"text_1\">\r\n      <!-- 0 -->\r\n      <g transform=\"translate(27.626607 239.238437)scale(0.1 -0.1)\">\r\n       <defs>\r\n        <path d=\"M 31.78125 66.40625 \r\nQ 24.171875 66.40625 20.328125 58.90625 \r\nQ 16.5 51.421875 16.5 36.375 \r\nQ 16.5 21.390625 20.328125 13.890625 \r\nQ 24.171875 6.390625 31.78125 6.390625 \r\nQ 39.453125 6.390625 43.28125 13.890625 \r\nQ 47.125 21.390625 47.125 36.375 \r\nQ 47.125 51.421875 43.28125 58.90625 \r\nQ 39.453125 66.40625 31.78125 66.40625 \r\nz\r\nM 31.78125 74.21875 \r\nQ 44.046875 74.21875 50.515625 64.515625 \r\nQ 56.984375 54.828125 56.984375 36.375 \r\nQ 56.984375 17.96875 50.515625 8.265625 \r\nQ 44.046875 -1.421875 31.78125 -1.421875 \r\nQ 19.53125 -1.421875 13.0625 8.265625 \r\nQ 6.59375 17.96875 6.59375 36.375 \r\nQ 6.59375 54.828125 13.0625 64.515625 \r\nQ 19.53125 74.21875 31.78125 74.21875 \r\nz\r\n\" id=\"DejaVuSans-48\"/>\r\n       </defs>\r\n       <use xlink:href=\"#DejaVuSans-48\"/>\r\n      </g>\r\n     </g>\r\n    </g>\r\n    <g id=\"xtick_2\">\r\n     <g id=\"line2d_2\">\r\n      <g>\r\n       <use style=\"stroke:#000000;stroke-width:0.8;\" x=\"69.636429\" xlink:href=\"#m1c89329b31\" y=\"224.64\"/>\r\n      </g>\r\n     </g>\r\n     <g id=\"text_2\">\r\n      <!-- 5 -->\r\n      <g transform=\"translate(66.455179 239.238437)scale(0.1 -0.1)\">\r\n       <defs>\r\n        <path d=\"M 10.796875 72.90625 \r\nL 49.515625 72.90625 \r\nL 49.515625 64.59375 \r\nL 19.828125 64.59375 \r\nL 19.828125 46.734375 \r\nQ 21.96875 47.46875 24.109375 47.828125 \r\nQ 26.265625 48.1875 28.421875 48.1875 \r\nQ 40.625 48.1875 47.75 41.5 \r\nQ 54.890625 34.8125 54.890625 23.390625 \r\nQ 54.890625 11.625 47.5625 5.09375 \r\nQ 40.234375 -1.421875 26.90625 -1.421875 \r\nQ 22.3125 -1.421875 17.546875 -0.640625 \r\nQ 12.796875 0.140625 7.71875 1.703125 \r\nL 7.71875 11.625 \r\nQ 12.109375 9.234375 16.796875 8.0625 \r\nQ 21.484375 6.890625 26.703125 6.890625 \r\nQ 35.15625 6.890625 40.078125 11.328125 \r\nQ 45.015625 15.765625 45.015625 23.390625 \r\nQ 45.015625 31 40.078125 35.4375 \r\nQ 35.15625 39.890625 26.703125 39.890625 \r\nQ 22.75 39.890625 18.8125 39.015625 \r\nQ 14.890625 38.140625 10.796875 36.28125 \r\nz\r\n\" id=\"DejaVuSans-53\"/>\r\n       </defs>\r\n       <use xlink:href=\"#DejaVuSans-53\"/>\r\n      </g>\r\n     </g>\r\n    </g>\r\n    <g id=\"xtick_3\">\r\n     <g id=\"line2d_3\">\r\n      <g>\r\n       <use style=\"stroke:#000000;stroke-width:0.8;\" x=\"108.465\" xlink:href=\"#m1c89329b31\" y=\"224.64\"/>\r\n      </g>\r\n     </g>\r\n     <g id=\"text_3\">\r\n      <!-- 10 -->\r\n      <g transform=\"translate(102.1025 239.238437)scale(0.1 -0.1)\">\r\n       <defs>\r\n        <path d=\"M 12.40625 8.296875 \r\nL 28.515625 8.296875 \r\nL 28.515625 63.921875 \r\nL 10.984375 60.40625 \r\nL 10.984375 69.390625 \r\nL 28.421875 72.90625 \r\nL 38.28125 72.90625 \r\nL 38.28125 8.296875 \r\nL 54.390625 8.296875 \r\nL 54.390625 0 \r\nL 12.40625 0 \r\nz\r\n\" id=\"DejaVuSans-49\"/>\r\n       </defs>\r\n       <use xlink:href=\"#DejaVuSans-49\"/>\r\n       <use x=\"63.623047\" xlink:href=\"#DejaVuSans-48\"/>\r\n      </g>\r\n     </g>\r\n    </g>\r\n    <g id=\"xtick_4\">\r\n     <g id=\"line2d_4\">\r\n      <g>\r\n       <use style=\"stroke:#000000;stroke-width:0.8;\" x=\"147.293571\" xlink:href=\"#m1c89329b31\" y=\"224.64\"/>\r\n      </g>\r\n     </g>\r\n     <g id=\"text_4\">\r\n      <!-- 15 -->\r\n      <g transform=\"translate(140.931071 239.238437)scale(0.1 -0.1)\">\r\n       <use xlink:href=\"#DejaVuSans-49\"/>\r\n       <use x=\"63.623047\" xlink:href=\"#DejaVuSans-53\"/>\r\n      </g>\r\n     </g>\r\n    </g>\r\n    <g id=\"xtick_5\">\r\n     <g id=\"line2d_5\">\r\n      <g>\r\n       <use style=\"stroke:#000000;stroke-width:0.8;\" x=\"186.122143\" xlink:href=\"#m1c89329b31\" y=\"224.64\"/>\r\n      </g>\r\n     </g>\r\n     <g id=\"text_5\">\r\n      <!-- 20 -->\r\n      <g transform=\"translate(179.759643 239.238437)scale(0.1 -0.1)\">\r\n       <defs>\r\n        <path d=\"M 19.1875 8.296875 \r\nL 53.609375 8.296875 \r\nL 53.609375 0 \r\nL 7.328125 0 \r\nL 7.328125 8.296875 \r\nQ 12.9375 14.109375 22.625 23.890625 \r\nQ 32.328125 33.6875 34.8125 36.53125 \r\nQ 39.546875 41.84375 41.421875 45.53125 \r\nQ 43.3125 49.21875 43.3125 52.78125 \r\nQ 43.3125 58.59375 39.234375 62.25 \r\nQ 35.15625 65.921875 28.609375 65.921875 \r\nQ 23.96875 65.921875 18.8125 64.3125 \r\nQ 13.671875 62.703125 7.8125 59.421875 \r\nL 7.8125 69.390625 \r\nQ 13.765625 71.78125 18.9375 73 \r\nQ 24.125 74.21875 28.421875 74.21875 \r\nQ 39.75 74.21875 46.484375 68.546875 \r\nQ 53.21875 62.890625 53.21875 53.421875 \r\nQ 53.21875 48.921875 51.53125 44.890625 \r\nQ 49.859375 40.875 45.40625 35.40625 \r\nQ 44.1875 33.984375 37.640625 27.21875 \r\nQ 31.109375 20.453125 19.1875 8.296875 \r\nz\r\n\" id=\"DejaVuSans-50\"/>\r\n       </defs>\r\n       <use xlink:href=\"#DejaVuSans-50\"/>\r\n       <use x=\"63.623047\" xlink:href=\"#DejaVuSans-48\"/>\r\n      </g>\r\n     </g>\r\n    </g>\r\n    <g id=\"xtick_6\">\r\n     <g id=\"line2d_6\">\r\n      <g>\r\n       <use style=\"stroke:#000000;stroke-width:0.8;\" x=\"224.950714\" xlink:href=\"#m1c89329b31\" y=\"224.64\"/>\r\n      </g>\r\n     </g>\r\n     <g id=\"text_6\">\r\n      <!-- 25 -->\r\n      <g transform=\"translate(218.588214 239.238437)scale(0.1 -0.1)\">\r\n       <use xlink:href=\"#DejaVuSans-50\"/>\r\n       <use x=\"63.623047\" xlink:href=\"#DejaVuSans-53\"/>\r\n      </g>\r\n     </g>\r\n    </g>\r\n   </g>\r\n   <g id=\"matplotlib.axis_2\">\r\n    <g id=\"ytick_1\">\r\n     <g id=\"line2d_7\">\r\n      <defs>\r\n       <path d=\"M 0 0 \r\nL -3.5 0 \r\n\" id=\"md0867db21d\" style=\"stroke:#000000;stroke-width:0.8;\"/>\r\n      </defs>\r\n      <g>\r\n       <use style=\"stroke:#000000;stroke-width:0.8;\" x=\"26.925\" xlink:href=\"#md0867db21d\" y=\"11.082857\"/>\r\n      </g>\r\n     </g>\r\n     <g id=\"text_7\">\r\n      <!-- 0 -->\r\n      <g transform=\"translate(13.5625 14.882076)scale(0.1 -0.1)\">\r\n       <use xlink:href=\"#DejaVuSans-48\"/>\r\n      </g>\r\n     </g>\r\n    </g>\r\n    <g id=\"ytick_2\">\r\n     <g id=\"line2d_8\">\r\n      <g>\r\n       <use style=\"stroke:#000000;stroke-width:0.8;\" x=\"26.925\" xlink:href=\"#md0867db21d\" y=\"49.911429\"/>\r\n      </g>\r\n     </g>\r\n     <g id=\"text_8\">\r\n      <!-- 5 -->\r\n      <g transform=\"translate(13.5625 53.710647)scale(0.1 -0.1)\">\r\n       <use xlink:href=\"#DejaVuSans-53\"/>\r\n      </g>\r\n     </g>\r\n    </g>\r\n    <g id=\"ytick_3\">\r\n     <g id=\"line2d_9\">\r\n      <g>\r\n       <use style=\"stroke:#000000;stroke-width:0.8;\" x=\"26.925\" xlink:href=\"#md0867db21d\" y=\"88.74\"/>\r\n      </g>\r\n     </g>\r\n     <g id=\"text_9\">\r\n      <!-- 10 -->\r\n      <g transform=\"translate(7.2 92.539219)scale(0.1 -0.1)\">\r\n       <use xlink:href=\"#DejaVuSans-49\"/>\r\n       <use x=\"63.623047\" xlink:href=\"#DejaVuSans-48\"/>\r\n      </g>\r\n     </g>\r\n    </g>\r\n    <g id=\"ytick_4\">\r\n     <g id=\"line2d_10\">\r\n      <g>\r\n       <use style=\"stroke:#000000;stroke-width:0.8;\" x=\"26.925\" xlink:href=\"#md0867db21d\" y=\"127.568571\"/>\r\n      </g>\r\n     </g>\r\n     <g id=\"text_10\">\r\n      <!-- 15 -->\r\n      <g transform=\"translate(7.2 131.36779)scale(0.1 -0.1)\">\r\n       <use xlink:href=\"#DejaVuSans-49\"/>\r\n       <use x=\"63.623047\" xlink:href=\"#DejaVuSans-53\"/>\r\n      </g>\r\n     </g>\r\n    </g>\r\n    <g id=\"ytick_5\">\r\n     <g id=\"line2d_11\">\r\n      <g>\r\n       <use style=\"stroke:#000000;stroke-width:0.8;\" x=\"26.925\" xlink:href=\"#md0867db21d\" y=\"166.397143\"/>\r\n      </g>\r\n     </g>\r\n     <g id=\"text_11\">\r\n      <!-- 20 -->\r\n      <g transform=\"translate(7.2 170.196362)scale(0.1 -0.1)\">\r\n       <use xlink:href=\"#DejaVuSans-50\"/>\r\n       <use x=\"63.623047\" xlink:href=\"#DejaVuSans-48\"/>\r\n      </g>\r\n     </g>\r\n    </g>\r\n    <g id=\"ytick_6\">\r\n     <g id=\"line2d_12\">\r\n      <g>\r\n       <use style=\"stroke:#000000;stroke-width:0.8;\" x=\"26.925\" xlink:href=\"#md0867db21d\" y=\"205.225714\"/>\r\n      </g>\r\n     </g>\r\n     <g id=\"text_12\">\r\n      <!-- 25 -->\r\n      <g transform=\"translate(7.2 209.024933)scale(0.1 -0.1)\">\r\n       <use xlink:href=\"#DejaVuSans-50\"/>\r\n       <use x=\"63.623047\" xlink:href=\"#DejaVuSans-53\"/>\r\n      </g>\r\n     </g>\r\n    </g>\r\n   </g>\r\n   <g id=\"patch_3\">\r\n    <path d=\"M 26.925 224.64 \r\nL 26.925 7.2 \r\n\" style=\"fill:none;stroke:#000000;stroke-linecap:square;stroke-linejoin:miter;stroke-width:0.8;\"/>\r\n   </g>\r\n   <g id=\"patch_4\">\r\n    <path d=\"M 244.365 224.64 \r\nL 244.365 7.2 \r\n\" style=\"fill:none;stroke:#000000;stroke-linecap:square;stroke-linejoin:miter;stroke-width:0.8;\"/>\r\n   </g>\r\n   <g id=\"patch_5\">\r\n    <path d=\"M 26.925 224.64 \r\nL 244.365 224.64 \r\n\" style=\"fill:none;stroke:#000000;stroke-linecap:square;stroke-linejoin:miter;stroke-width:0.8;\"/>\r\n   </g>\r\n   <g id=\"patch_6\">\r\n    <path d=\"M 26.925 7.2 \r\nL 244.365 7.2 \r\n\" style=\"fill:none;stroke:#000000;stroke-linecap:square;stroke-linejoin:miter;stroke-width:0.8;\"/>\r\n   </g>\r\n  </g>\r\n </g>\r\n <defs>\r\n  <clipPath id=\"ped2b3e47e4\">\r\n   <rect height=\"217.44\" width=\"217.44\" x=\"26.925\" y=\"7.2\"/>\r\n  </clipPath>\r\n </defs>\r\n</svg>\r\n",
      "image/png": "[encoded data removed]"
     },
     "metadata": {
      "needs_background": "light"
     }
    }
   ],
   "source": [
    "# make sure that normalization didn't affect our images\n",
    "import matplotlib.pyplot as plt\n",
    "%matplotlib inline\n",
    "X_test_reshped = np.array(X_test[20])\n",
    "plt.imshow(X_test_reshped.reshape(28,28))"
   ]
  },
  {
   "cell_type": "markdown",
   "metadata": {},
   "source": [
    "Import sequencial to build the autoencoder model"
   ]
  },
  {
   "cell_type": "code",
   "execution_count": 25,
   "metadata": {},
   "outputs": [],
   "source": [
    "from tensorflow.keras.layers import Dense, Input, Flatten,\\\n",
    "                                    Reshape, LeakyReLU as LR,\\\n",
    "                                    Activation, Dropout\n",
    "from tensorflow.keras.models import Model, Sequential\n",
    "from tensorflow.keras.optimizers import SGD\n",
    "from matplotlib import pyplot as plt\n",
    "from IPython import display # If using IPython, Colab or Jupyter\n",
    "# build the Encoder\n",
    "encoder = Sequential()\n",
    "encoder.add(Flatten(input_shape = [28,28])) # the same like image dimension\n",
    "encoder.add(Dense(400, activation ='relu'))\n",
    "encoder.add(Dense(200,activation=\"relu\"))\n",
    "encoder.add(Dense(100,activation=\"relu\"))\n",
    "encoder.add(Dense(50,activation=\"relu\"))\n",
    "encoder.add(Dense(25,activation=\"relu\"))"
   ]
  },
  {
   "cell_type": "code",
   "execution_count": 26,
   "metadata": {},
   "outputs": [],
   "source": [
    "# build the Decoder\n",
    "decoder = Sequential()\n",
    "decoder.add(Dense(50,input_shape=[25],activation='relu'))\n",
    "decoder.add(Dense(100,activation='relu'))\n",
    "decoder.add(Dense(200,activation='relu'))\n",
    "decoder.add(Dense(400,activation='relu'))\n",
    "decoder.add(Dense(28 * 28, activation=\"sigmoid\"))\n",
    "decoder.add(Reshape([28, 28]))"
   ]
  },
  {
   "cell_type": "code",
   "execution_count": 28,
   "metadata": {},
   "outputs": [],
   "source": [
    "# build AutoEncoder\n",
    "autoencoder = Sequential([encoder, decoder])\n",
    "autoencoder.compile(loss=\"binary_crossentropy\",optimizer=SGD(),metrics=['accuracy'])"
   ]
  },
  {
   "cell_type": "code",
   "execution_count": 29,
   "metadata": {},
   "outputs": [],
   "source": [
    "#to plot the model, we need to install the below library\n",
    "#pip install pydot\n",
    "#conda install python-graphviz"
   ]
  },
  {
   "cell_type": "code",
   "execution_count": 27,
   "metadata": {},
   "outputs": [
    {
     "data": {
      "image/png": "[encoded data removed]",
      "text/plain": [
       "<IPython.core.display.Image object>"
      ]
     },
     "execution_count": 27,
     "metadata": {},
     "output_type": "execute_result"
    }
   ],
   "source": [
    "# show the topology of the model\n",
    "from tensorflow.keras.utils import plot_model\n",
    "plot_model(autoencoder,'encoder_no_compress.png', show_shapes=True)"
   ]
  },
  {
   "cell_type": "code",
   "execution_count": 30,
   "metadata": {},
   "outputs": [
    {
     "output_type": "stream",
     "name": "stdout",
     "text": [
      "Model: \"sequential_4\"\n_________________________________________________________________\nLayer (type)                 Output Shape              Param #   \n=================================================================\nsequential_1 (Sequential)    (None, 25)                420625    \n_________________________________________________________________\nsequential_2 (Sequential)    (None, 28, 28)            421384    \n=================================================================\nTotal params: 842,009\nTrainable params: 842,009\nNon-trainable params: 0\n_________________________________________________________________\n"
     ]
    }
   ],
   "source": [
    "autoencoder.summary()"
   ]
  },
  {
   "cell_type": "code",
   "execution_count": 32,
   "metadata": {},
   "outputs": [],
   "source": [
    "# fitting the model with Training and Testing datset\n",
    "#autoencoder.fit(X_train, X_train, epochs=300,validation_data=(X_test, X_test))"
   ]
  },
  {
   "cell_type": "code",
   "execution_count": 34,
   "metadata": {},
   "outputs": [],
   "source": [
    "#\"\"\"\n",
    "Epoch 1/300\n",
    "1875/1875 [==============================] - 43s 23ms/step - loss: 0.1327 - accuracy: 0.2323 - val_loss: 0.1293 - val_accuracy: 0.2346\n",
    "Epoch 2/300\n",
    "1875/1875 [==============================] - 43s 23ms/step - loss: 0.1294 - accuracy: 0.2373 - val_loss: 0.1269 - val_accuracy: 0.2353\n",
    "Epoch 3/300\n",
    "1875/1875 [==============================] - 42s 22ms/step - loss: 0.1265 - accuracy: 0.2418 - val_loss: 0.1235 - val_accuracy: 0.2430\n",
    "Epoch 4/300\n",
    "1875/1875 [==============================] - 44s 24ms/step - loss: 0.1240 - accuracy: 0.2458 - val_loss: 0.1206 - val_accuracy: 0.2437\n",
    "Epoch 5/300\n",
    "1875/1875 [==============================] - 46s 24ms/step - loss: 0.1218 - accuracy: 0.2492 - val_loss: 0.1198 - val_accuracy: 0.2453\n",
    "Epoch 6/300\n",
    "1875/1875 [==============================] - 46s 25ms/step - loss: 0.1196 - accuracy: 0.2517 - val_loss: 0.1173 - val_accuracy: 0.2526\n",
    "Epoch 7/300\n",
    "1875/1875 [==============================] - 46s 24ms/step - loss: 0.1175 - accuracy: 0.2546 - val_loss: 0.1174 - val_accuracy: 0.2526\n",
    "Epoch 8/300\n",
    "1875/1875 [==============================] - 43s 23ms/step - loss: 0.1157 - accuracy: 0.2569 - val_loss: 0.1156 - val_accuracy: 0.2566\n",
    "Epoch 9/300\n",
    "1875/1875 [==============================] - 41s 22ms/step - loss: 0.1141 - accuracy: 0.2595 - val_loss: 0.1130 - val_accuracy: 0.2584\n",
    "Epoch 10/300\n",
    "1875/1875 [==============================] - 37s 20ms/step - loss: 0.1128 - accuracy: 0.2613 - val_loss: 0.1111 - val_accuracy: 0.2628\n",
    "Epoch 11/300\n",
    "1875/1875 [==============================] - 47s 25ms/step - loss: 0.1118 - accuracy: 0.2629 - val_loss: 0.1106 - val_accuracy: 0.2523\n",
    "Epoch 12/300\n",
    "1875/1875 [==============================] - 34s 18ms/step - loss: 0.1107 - accuracy: 0.2649 - val_loss: 0.1130 - val_accuracy: 0.2603\n",
    "Epoch 13/300\n",
    "1875/1875 [==============================] - 37s 20ms/step - loss: 0.1099 - accuracy: 0.2661 - val_loss: 0.1095 - val_accuracy: 0.2592\n",
    "Epoch 14/300\n",
    "1875/1875 [==============================] - 30s 16ms/step - loss: 0.1090 - accuracy: 0.2677 - val_loss: 0.1093 - val_accuracy: 0.2656\n",
    "Epoch 15/300\n",
    "1875/1875 [==============================] - 31s 16ms/step - loss: 0.1082 - accuracy: 0.2690 - val_loss: 0.1076 - val_accuracy: 0.2600\n",
    "Epoch 16/300\n",
    "1875/1875 [==============================] - 31s 17ms/step - loss: 0.1074 - accuracy: 0.2709 - val_loss: 0.1069 - val_accuracy: 0.2717\n",
    "Epoch 17/300\n",
    "1875/1875 [==============================] - 31s 16ms/step - loss: 0.1066 - accuracy: 0.2718 - val_loss: 0.1072 - val_accuracy: 0.2712\n",
    "Epoch 18/300\n",
    "1875/1875 [==============================] - 31s 16ms/step - loss: 0.1058 - accuracy: 0.2733 - val_loss: 0.1058 - val_accuracy: 0.2707\n",
    "Epoch 19/300\n",
    "1875/1875 [==============================] - 31s 16ms/step - loss: 0.1051 - accuracy: 0.2746 - val_loss: 0.1052 - val_accuracy: 0.2684\n",
    "Epoch 20/300\n",
    "1875/1875 [==============================] - 31s 17ms/step - loss: 0.1044 - accuracy: 0.2758 - val_loss: 0.1053 - val_accuracy: 0.2596\n",
    "Epoch 21/300\n",
    "1875/1875 [==============================] - 34s 18ms/step - loss: 0.1037 - accuracy: 0.2769 - val_loss: 0.1038 - val_accuracy: 0.2697\n",
    "Epoch 22/300\n",
    "1875/1875 [==============================] - 36s 19ms/step - loss: 0.1031 - accuracy: 0.2782 - val_loss: 0.1035 - val_accuracy: 0.2702\n",
    "Epoch 23/300\n",
    "1875/1875 [==============================] - 47s 25ms/step - loss: 0.1025 - accuracy: 0.2791 - val_loss: 0.1028 - val_accuracy: 0.2749\n",
    "Epoch 24/300\n",
    "1875/1875 [==============================] - 36s 19ms/step - loss: 0.1021 - accuracy: 0.2798 - val_loss: 0.1022 - val_accuracy: 0.2770\n",
    "Epoch 25/300\n",
    "1875/1875 [==============================] - 36s 19ms/step - loss: 0.1015 - accuracy: 0.2813 - val_loss: 0.1029 - val_accuracy: 0.2784\n",
    "Epoch 26/300\n",
    "1875/1875 [==============================] - 36s 19ms/step - loss: 0.1011 - accuracy: 0.2824 - val_loss: 0.1020 - val_accuracy: 0.2794\n",
    "Epoch 27/300\n",
    "1875/1875 [==============================] - 35s 19ms/step - loss: 0.1007 - accuracy: 0.2832 - val_loss: 0.1026 - val_accuracy: 0.2735\n",
    "Epoch 28/300\n",
    "1875/1875 [==============================] - 36s 19ms/step - loss: 0.1002 - accuracy: 0.2838 - val_loss: 0.1020 - val_accuracy: 0.2719\n",
    "Epoch 29/300\n",
    "1875/1875 [==============================] - 36s 19ms/step - loss: 0.0999 - accuracy: 0.2843 - val_loss: 0.1021 - val_accuracy: 0.2778\n",
    "Epoch 30/300\n",
    "1875/1875 [==============================] - 36s 19ms/step - loss: 0.0994 - accuracy: 0.2855 - val_loss: 0.1007 - val_accuracy: 0.2791\n",
    "Epoch 31/300\n",
    "1875/1875 [==============================] - 35s 19ms/step - loss: 0.0991 - accuracy: 0.2860 - val_loss: 0.0997 - val_accuracy: 0.2802\n",
    "Epoch 32/300\n",
    "1875/1875 [==============================] - 36s 19ms/step - loss: 0.0988 - accuracy: 0.2869 - val_loss: 0.1028 - val_accuracy: 0.2819\n",
    "Epoch 33/300\n",
    "1875/1875 [==============================] - 37s 20ms/step - loss: 0.0985 - accuracy: 0.2874 - val_loss: 0.1008 - val_accuracy: 0.2804\n",
    "Epoch 34/300\n",
    "1875/1875 [==============================] - 35s 19ms/step - loss: 0.0982 - accuracy: 0.2881 - val_loss: 0.1016 - val_accuracy: 0.2729\n",
    "Epoch 35/300\n",
    "1875/1875 [==============================] - 37s 20ms/step - loss: 0.0979 - accuracy: 0.2888 - val_loss: 0.0999 - val_accuracy: 0.2866\n",
    "Epoch 36/300\n",
    "1875/1875 [==============================] - 38s 20ms/step - loss: 0.0977 - accuracy: 0.2890 - val_loss: 0.0997 - val_accuracy: 0.2786\n",
    "Epoch 37/300\n",
    "1875/1875 [==============================] - 40s 22ms/step - loss: 0.0973 - accuracy: 0.2902 - val_loss: 0.1015 - val_accuracy: 0.2684\n",
    "Epoch 38/300\n",
    "1875/1875 [==============================] - 39s 21ms/step - loss: 0.0971 - accuracy: 0.2900 - val_loss: 0.1010 - val_accuracy: 0.2763\n",
    "Epoch 39/300\n",
    "1875/1875 [==============================] - 38s 20ms/step - loss: 0.0969 - accuracy: 0.2908 - val_loss: 0.0988 - val_accuracy: 0.2809\n",
    "Epoch 40/300\n",
    "1875/1875 [==============================] - 38s 20ms/step - loss: 0.0966 - accuracy: 0.2909 - val_loss: 0.0991 - val_accuracy: 0.2859\n",
    "Epoch 41/300\n",
    "1875/1875 [==============================] - 38s 20ms/step - loss: 0.0964 - accuracy: 0.2915 - val_loss: 0.0988 - val_accuracy: 0.2769\n",
    "Epoch 42/300\n",
    "1875/1875 [==============================] - 36s 19ms/step - loss: 0.0961 - accuracy: 0.2917 - val_loss: 0.1007 - val_accuracy: 0.2767\n",
    "Epoch 43/300\n",
    "1875/1875 [==============================] - 37s 20ms/step - loss: 0.0959 - accuracy: 0.2925 - val_loss: 0.0974 - val_accuracy: 0.2820\n",
    "Epoch 44/300\n",
    "1875/1875 [==============================] - 38s 20ms/step - loss: 0.0955 - accuracy: 0.2931 - val_loss: 0.0979 - val_accuracy: 0.2870\n",
    "Epoch 45/300\n",
    "1875/1875 [==============================] - 38s 20ms/step - loss: 0.0954 - accuracy: 0.2930 - val_loss: 0.0975 - val_accuracy: 0.2893\n",
    "Epoch 46/300\n",
    "1875/1875 [==============================] - 37s 20ms/step - loss: 0.0952 - accuracy: 0.2936 - val_loss: 0.0979 - val_accuracy: 0.2779\n",
    "Epoch 47/300\n",
    "1875/1875 [==============================] - 37s 20ms/step - loss: 0.0949 - accuracy: 0.2944 - val_loss: 0.0987 - val_accuracy: 0.2877\n",
    "Epoch 48/300\n",
    "1875/1875 [==============================] - 36s 19ms/step - loss: 0.0947 - accuracy: 0.2942 - val_loss: 0.0966 - val_accuracy: 0.2858\n",
    "Epoch 49/300\n",
    "1875/1875 [==============================] - 38s 20ms/step - loss: 0.0944 - accuracy: 0.2949 - val_loss: 0.0978 - val_accuracy: 0.2833\n",
    "Epoch 50/300\n",
    "1875/1875 [==============================] - 38s 20ms/step - loss: 0.0942 - accuracy: 0.2953 - val_loss: 0.0971 - val_accuracy: 0.2817\n",
    "Epoch 51/300\n",
    "1875/1875 [==============================] - 38s 20ms/step - loss: 0.0941 - accuracy: 0.2954 - val_loss: 0.0968 - val_accuracy: 0.2859\n",
    "Epoch 52/300\n",
    "1875/1875 [==============================] - 38s 20ms/step - loss: 0.0938 - accuracy: 0.2961 - val_loss: 0.0969 - val_accuracy: 0.2733\n",
    "Epoch 53/300\n",
    "1875/1875 [==============================] - 37s 20ms/step - loss: 0.0937 - accuracy: 0.2957 - val_loss: 0.0967 - val_accuracy: 0.2817\n",
    "Epoch 54/300\n",
    "1875/1875 [==============================] - 39s 21ms/step - loss: 0.0935 - accuracy: 0.2965 - val_loss: 0.0966 - val_accuracy: 0.2833\n",
    "Epoch 55/300\n",
    "1875/1875 [==============================] - 39s 21ms/step - loss: 0.0933 - accuracy: 0.2966 - val_loss: 0.0973 - val_accuracy: 0.2842\n",
    "Epoch 56/300\n",
    "1875/1875 [==============================] - 33s 18ms/step - loss: 0.0930 - accuracy: 0.2969 - val_loss: 0.0961 - val_accuracy: 0.2869\n",
    "Epoch 57/300\n",
    "1875/1875 [==============================] - 36s 19ms/step - loss: 0.0929 - accuracy: 0.2971 - val_loss: 0.0954 - val_accuracy: 0.2912\n",
    "Epoch 58/300\n",
    "1875/1875 [==============================] - 33s 17ms/step - loss: 0.0928 - accuracy: 0.2975 - val_loss: 0.0993 - val_accuracy: 0.2923\n",
    "Epoch 59/300\n",
    "1875/1875 [==============================] - 37s 20ms/step - loss: 0.0926 - accuracy: 0.2975 - val_loss: 0.0972 - val_accuracy: 0.2865\n",
    "Epoch 60/300\n",
    "1875/1875 [==============================] - 34s 18ms/step - loss: 0.0924 - accuracy: 0.2983 - val_loss: 0.0949 - val_accuracy: 0.2856\n",
    "Epoch 61/300\n",
    "1875/1875 [==============================] - 36s 19ms/step - loss: 0.0923 - accuracy: 0.2984 - val_loss: 0.0976 - val_accuracy: 0.2821\n",
    "Epoch 62/300\n",
    "1875/1875 [==============================] - 36s 19ms/step - loss: 0.0921 - accuracy: 0.2985 - val_loss: 0.0979 - val_accuracy: 0.2844\n",
    "Epoch 63/300\n",
    "1875/1875 [==============================] - 34s 18ms/step - loss: 0.0920 - accuracy: 0.2986 - val_loss: 0.0965 - val_accuracy: 0.2796\n",
    "Epoch 64/300\n",
    "1875/1875 [==============================] - 35s 18ms/step - loss: 0.0919 - accuracy: 0.2987 - val_loss: 0.0976 - val_accuracy: 0.2805\n",
    "Epoch 65/300\n",
    "1875/1875 [==============================] - 34s 18ms/step - loss: 0.0917 - accuracy: 0.2993 - val_loss: 0.0948 - val_accuracy: 0.2860\n",
    "Epoch 66/300\n",
    "1875/1875 [==============================] - 35s 19ms/step - loss: 0.0917 - accuracy: 0.2992 - val_loss: 0.0956 - val_accuracy: 0.2875\n",
    "Epoch 67/300\n",
    "1875/1875 [==============================] - 36s 19ms/step - loss: 0.0914 - accuracy: 0.2993 - val_loss: 0.0958 - val_accuracy: 0.2918\n",
    "Epoch 68/300\n",
    "1875/1875 [==============================] - 34s 18ms/step - loss: 0.0913 - accuracy: 0.2998 - val_loss: 0.0951 - val_accuracy: 0.2946\n",
    "Epoch 69/300\n",
    "1875/1875 [==============================] - 37s 20ms/step - loss: 0.0912 - accuracy: 0.2999 - val_loss: 0.0960 - val_accuracy: 0.2956\n",
    "Epoch 70/300\n",
    "1875/1875 [==============================] - 36s 19ms/step - loss: 0.0910 - accuracy: 0.3005 - val_loss: 0.0940 - val_accuracy: 0.2834\n",
    "Epoch 71/300\n",
    "1875/1875 [==============================] - 34s 18ms/step - loss: 0.0910 - accuracy: 0.3002 - val_loss: 0.0967 - val_accuracy: 0.2748\n",
    "Epoch 72/300\n",
    "1875/1875 [==============================] - 34s 18ms/step - loss: 0.0909 - accuracy: 0.3005 - val_loss: 0.0953 - val_accuracy: 0.2912\n",
    "Epoch 73/300\n",
    "1875/1875 [==============================] - 40s 21ms/step - loss: 0.0908 - accuracy: 0.3006 - val_loss: 0.0944 - val_accuracy: 0.2921\n",
    "Epoch 74/300\n",
    "1875/1875 [==============================] - 38s 20ms/step - loss: 0.0905 - accuracy: 0.3014 - val_loss: 0.0960 - val_accuracy: 0.2869\n",
    "Epoch 75/300\n",
    "1875/1875 [==============================] - 37s 20ms/step - loss: 0.0905 - accuracy: 0.3016 - val_loss: 0.0931 - val_accuracy: 0.2905\n",
    "Epoch 76/300\n",
    "1875/1875 [==============================] - 38s 20ms/step - loss: 0.0905 - accuracy: 0.3018 - val_loss: 0.0959 - val_accuracy: 0.2910\n",
    "Epoch 77/300\n",
    "1875/1875 [==============================] - 38s 20ms/step - loss: 0.0904 - accuracy: 0.3019 - val_loss: 0.0945 - val_accuracy: 0.2880\n",
    "Epoch 78/300\n",
    "1875/1875 [==============================] - 37s 20ms/step - loss: 0.0902 - accuracy: 0.3018 - val_loss: 0.0956 - val_accuracy: 0.2879\n",
    "Epoch 79/300\n",
    "1875/1875 [==============================] - 37s 20ms/step - loss: 0.0901 - accuracy: 0.3023 - val_loss: 0.0958 - val_accuracy: 0.2833\n",
    "Epoch 80/300\n",
    "1875/1875 [==============================] - 40s 21ms/step - loss: 0.0900 - accuracy: 0.3028 - val_loss: 0.0947 - val_accuracy: 0.2907\n",
    "Epoch 81/300\n",
    "1875/1875 [==============================] - 37s 20ms/step - loss: 0.0899 - accuracy: 0.3028 - val_loss: 0.0940 - val_accuracy: 0.2838\n",
    "Epoch 82/300\n",
    "1875/1875 [==============================] - 39s 21ms/step - loss: 0.0899 - accuracy: 0.3032 - val_loss: 0.0954 - val_accuracy: 0.2905\n",
    "Epoch 83/300\n",
    "1875/1875 [==============================] - 35s 19ms/step - loss: 0.0898 - accuracy: 0.3025 - val_loss: 0.0935 - val_accuracy: 0.2874\n",
    "Epoch 84/300\n",
    "1875/1875 [==============================] - 40s 21ms/step - loss: 0.0897 - accuracy: 0.3029 - val_loss: 0.0944 - val_accuracy: 0.2867\n",
    "Epoch 85/300\n",
    "1052/1875 [===============>..............] - ETA: 16s - loss: 0.0895 - accuracy: 0.3037\n",
    "\"\"\"\n"
   ]
  },
  {
   "cell_type": "code",
   "execution_count": 95,
   "metadata": {},
   "outputs": [
    {
     "data": {
      "text/plain": [
       "(10000, 28, 28)"
      ]
     },
     "execution_count": 95,
     "metadata": {},
     "output_type": "execute_result"
    }
   ],
   "source": [
    "X_test.shape"
   ]
  },
  {
   "cell_type": "code",
   "execution_count": 98,
   "metadata": {},
   "outputs": [],
   "source": [
    "#testing the model with testing picture\n",
    "passed_images = autoencoder.predict(X_test[:30])"
   ]
  },
  {
   "cell_type": "code",
   "execution_count": 101,
   "metadata": {},
   "outputs": [
    {
     "data": {
      "text/plain": [
       "<matplotlib.image.AxesImage at 0x25143199160>"
      ]
     },
     "execution_count": 101,
     "metadata": {},
     "output_type": "execute_result"
    },
    {
     "data": {
      "image/png": "[encoded data removed]",
      "text/plain": [
       "<Figure size 432x288 with 1 Axes>"
      ]
     },
     "metadata": {
      "needs_background": "light"
     },
     "output_type": "display_data"
    }
   ],
   "source": [
    "plt.imshow(passed_images[22])"
   ]
  },
  {
   "cell_type": "code",
   "execution_count": 104,
   "metadata": {},
   "outputs": [
    {
     "name": "stdout",
     "output_type": "stream",
     "text": [
      "6\n"
     ]
    },
    {
     "data": {
      "text/plain": [
       "<matplotlib.image.AxesImage at 0x25143a5ac70>"
      ]
     },
     "execution_count": 104,
     "metadata": {},
     "output_type": "execute_result"
    },
    {
     "data": {
      "image/png": "[encoded data removed]",
      "text/plain": [
       "<Figure size 432x288 with 1 Axes>"
      ]
     },
     "metadata": {
      "needs_background": "light"
     },
     "output_type": "display_data"
    }
   ],
   "source": [
    "print(y_test[22])\n",
    "plt.imshow(X_test[22])"
   ]
  },
  {
   "cell_type": "code",
   "execution_count": null,
   "metadata": {},
   "outputs": [],
   "source": [
    "# TRYING WITH DIFFERENT MODEL CONFIGURATION AND LAYERS"
   ]
  },
  {
   "cell_type": "code",
   "execution_count": 30,
   "metadata": {},
   "outputs": [],
   "source": [
    "#"
   ]
  },
  {
   "cell_type": "code",
   "execution_count": 31,
   "metadata": {},
   "outputs": [
    {
     "data": {
      "image/png": "[encoded data removed]",
      "text/plain": [
       "<Figure size 432x288 with 1 Axes>"
      ]
     },
     "metadata": {
      "needs_background": "light"
     },
     "output_type": "display_data"
    }
   ],
   "source": [
    "plt.imshow(X_train[0], cmap = \"gray\")\n",
    "plt.show()\n",
    "LATENT_SIZE = 32"
   ]
  },
  {
   "cell_type": "code",
   "execution_count": 32,
   "metadata": {},
   "outputs": [],
   "source": [
    "# Encoder\n",
    "encoder = Sequential()\n",
    "encoder.add(Flatten(input_shape = (28,28)))\n",
    "encoder.add(Dense(512))\n",
    "encoder.add(LR())\n",
    "encoder.add(Dropout(0.5))\n",
    "encoder.add(Dense(256))\n",
    "encoder.add(LR())\n",
    "encoder.add(Dropout(0.5))\n",
    "encoder.add(Dense(128))\n",
    "encoder.add(LR())\n",
    "encoder.add(Dropout(0.5))\n",
    "encoder.add(Dense(128))\n",
    "encoder.add(LR())\n",
    "encoder.add(Dense(LATENT_SIZE))\n",
    "encoder.add(LR())"
   ]
  },
  {
   "cell_type": "code",
   "execution_count": 34,
   "metadata": {},
   "outputs": [],
   "source": [
    "decoder = Sequential()\n",
    "decoder.add(Dense(64, input_shape = (LATENT_SIZE,)))\n",
    "decoder.add(LR())\n",
    "decoder.add(Dropout(0.5))\n",
    "decoder.add(Dense(128))\n",
    "decoder.add(LR())\n",
    "decoder.add(Dropout(0.5))\n",
    "decoder.add(Dense(256))\n",
    "decoder.add(LR())\n",
    "decoder.add(Dropout(0.5))\n",
    "decoder.add(Dense(512))\n",
    "decoder.add(LR())\n",
    "decoder.add(Dropout(0.5))\n",
    "decoder.add(Dense(784))\n",
    "decoder.add(Activation(\"sigmoid\"))\n",
    "decoder.add(Reshape((28, 28)))"
   ]
  },
  {
   "cell_type": "code",
   "execution_count": 35,
   "metadata": {},
   "outputs": [],
   "source": [
    "img = Input(shape = (28, 28))\n",
    "latent_vector = encoder(img)\n",
    "output = decoder(latent_vector)\n",
    "model = Model(inputs = img, outputs = output)\n",
    "model.compile(\"nadam\", loss = \"binary_crossentropy\")"
   ]
  },
  {
   "cell_type": "code",
   "execution_count": 36,
   "metadata": {},
   "outputs": [
    {
     "name": "stdout",
     "output_type": "stream",
     "text": [
      "Model: \"model\"\n",
      "_________________________________________________________________\n",
      "Layer (type)                 Output Shape              Param #   \n",
      "=================================================================\n",
      "input_1 (InputLayer)         [(None, 28, 28)]          0         \n",
      "_________________________________________________________________\n",
      "sequential_6 (Sequential)    (None, 32)                586784    \n",
      "_________________________________________________________________\n",
      "sequential_8 (Sequential)    (None, 28, 28)            577232    \n",
      "=================================================================\n",
      "Total params: 1,164,016\n",
      "Trainable params: 1,164,016\n",
      "Non-trainable params: 0\n",
      "_________________________________________________________________\n"
     ]
    }
   ],
   "source": [
    "model.summary()"
   ]
  },
  {
   "cell_type": "code",
   "execution_count": 118,
   "metadata": {},
   "outputs": [
    {
     "data": {
      "image/png": "[encoded data removed]",
      "text/plain": [
       "<Figure size 432x288 with 16 Axes>"
      ]
     },
     "metadata": {
      "needs_background": "light"
     },
     "output_type": "display_data"
    },
    {
     "name": "stdout",
     "output_type": "stream",
     "text": [
      "----------- EPOCH 2 -----------\n",
      "1875/1875 [==============================] - 114s 61ms/step - loss: 0.1925\n"
     ]
    }
   ],
   "source": [
    "EPOCHS = 3\n",
    "#Only do plotting if you have IPython, Jupyter, or using Colab\n",
    "for epoch in range(EPOCHS):\n",
    "    fig, axs = plt.subplots(4, 4)\n",
    "    rand = X_test[np.random.randint(0, 10000, 16)].reshape((4, 4, 1, 28, 28))\n",
    "    \n",
    "    display.clear_output() # If you imported display from IPython\n",
    "    \n",
    "    for i in range(4):\n",
    "        for j in range(4):\n",
    "            axs[i, j].imshow(model.predict(rand[i, j])[0], cmap = \"gray\")\n",
    "            axs[i, j].axis(\"off\")\n",
    "    \n",
    "    plt.subplots_adjust(wspace = 0, hspace = 0)\n",
    "    plt.show()\n",
    "    print(\"-----------\", \"EPOCH\", epoch, \"-----------\")\n",
    "    model.fit(X_train, X_train)"
   ]
  },
  {
   "cell_type": "code",
   "execution_count": null,
   "metadata": {},
   "outputs": [],
   "source": []
  }
 ],
 "metadata": {
  "kernelspec": {
   "display_name": "Python 3",
   "language": "python",
   "name": "python3"
  },
  "language_info": {
   "codemirror_mode": {
    "name": "ipython",
    "version": 3
   },
   "file_extension": ".py",
   "mimetype": "text/x-python",
   "name": "python",
   "nbconvert_exporter": "python",
   "pygments_lexer": "ipython3",
   "version": "3.8.5-final"
  }
 },
 "nbformat": 4,
 "nbformat_minor": 4
}